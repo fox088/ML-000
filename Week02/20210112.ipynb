{
  "nbformat": 4,
  "nbformat_minor": 0,
  "metadata": {
    "colab": {
      "name": "Untitled5.ipynb",
      "provenance": [],
      "collapsed_sections": []
    },
    "kernelspec": {
      "name": "python3",
      "display_name": "Python 3"
    }
  },
  "cells": [
    {
      "cell_type": "code",
      "metadata": {
        "id": "KjxDTH1rGa9l"
      },
      "source": [
        "%load_ext Cython"
      ],
      "execution_count": 1,
      "outputs": []
    },
    {
      "cell_type": "code",
      "metadata": {
        "id": "uI3HT1tKGmLn",
        "colab": {
          "base_uri": "https://localhost:8080/"
        },
        "outputId": "7162a043-95d7-47b0-8f6e-03bd1bd467a3"
      },
      "source": [
        "%%time\r\n",
        "\r\n",
        "%%cython --cplus\r\n",
        "import numpy as np\r\n",
        "cimport numpy as cnp\r\n",
        "from libcpp.vector cimport vector\r\n",
        "from libc.stdlib cimport rand\r\n",
        "cpdef target_mean_V2(vector[int] x,vector[int] y):\r\n",
        "  # print(x)\r\n",
        "  cdef cnp.ndarray[double] sum_result=np.zeros(10)\r\n",
        "  cdef cnp.ndarray[long] sum_num=np.zeros(10,dtype=int)\r\n",
        "  cdef vector[double] result\r\n",
        "  cdef int j=0;\r\n",
        "  for i in x:\r\n",
        "    sum_result[i]+=y[j]\r\n",
        "    sum_num[i]+=1\r\n",
        "    j+=1\r\n",
        "  # print(sum_result)\r\n",
        "  # print(sum_num)\r\n",
        "  cdef long div_num\r\n",
        "  for i in x:\r\n",
        "    div_num=sum_num[i]-1\r\n",
        "    if div_num==0:\r\n",
        "      result.push_back(0)\r\n",
        "    else:\r\n",
        "      result.push_back((sum_result[i]-i)/(div_num))\r\n",
        "  # print(result)\r\n",
        " \r\n",
        "\r\n",
        "# cdef vector[int] x\r\n",
        "# cdef vector[int] y\r\n",
        "# for i in range(5000):\r\n",
        "#   x.push_back(rand()%10)\r\n",
        "#   y.push_back(rand()%2)\r\n",
        "y = np.random.randint(2, size=(1000000, 1)) \r\n",
        "x = np.random.randint(10, size=(1000000, 1))\r\n",
        "# print(x)\r\n",
        "# print(y)\r\n",
        "target_mean_V2(x,y)"
      ],
      "execution_count": 19,
      "outputs": [
        {
          "output_type": "stream",
          "text": [
            "CPU times: user 2.83 s, sys: 43.4 ms, total: 2.87 s\n",
            "Wall time: 4.63 s\n"
          ],
          "name": "stdout"
        }
      ]
    },
    {
      "cell_type": "code",
      "metadata": {
        "id": "5EWkNlrSS36E"
      },
      "source": [
        ""
      ],
      "execution_count": 2,
      "outputs": []
    }
  ]
}